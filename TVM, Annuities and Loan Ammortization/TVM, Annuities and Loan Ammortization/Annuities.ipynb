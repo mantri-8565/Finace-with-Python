{
 "cells": [
  {
   "cell_type": "markdown",
   "metadata": {},
   "source": [
    "#  Annuities"
   ]
  },
  {
   "cell_type": "markdown",
   "metadata": {},
   "source": [
    "Assume a 30-year-old investor wants to retire in __35 years__ at the age of 65. He will earn __4.0% p.a.__ on his Investment during the __Funding Phase__ (already fixed) and he expects to earn __3.0% p.a.__ on his Investment during the __Payout Phase__ (fixed upon retirement). How much must he __deposit__ at the __end of each month__ for the next 35 years in order to be able to withdraw __2,500 USD__ per month (at the beginning of each month) for __25 years__? The Annuity Contract´s final Value shall be __100,000 USD__ when he is 90 years old (to cover some more years).  "
   ]
  },
  {
   "cell_type": "markdown",
   "metadata": {},
   "source": [
    "__Step 1: Payout Phase__"
   ]
  },
  {
   "cell_type": "code",
   "execution_count": 51,
   "metadata": {},
   "outputs": [],
   "source": [
    "import numpy as np\n",
    "import numpy_financial as npf # new!!!"
   ]
  },
  {
   "cell_type": "code",
   "execution_count": 52,
   "metadata": {},
   "outputs": [],
   "source": [
    "m = 12\n",
    "cf_2 = 2500\n",
    "n_2 = 25\n",
    "FV_2 = 100000\n",
    "r_2 = 0.03"
   ]
  },
  {
   "cell_type": "code",
   "execution_count": 53,
   "metadata": {},
   "outputs": [
    {
     "data": {
      "text/plain": [
       "-575789.9978483317"
      ]
     },
     "execution_count": 53,
     "metadata": {},
     "output_type": "execute_result"
    }
   ],
   "source": [
    "PV_2 = npf.pv(rate = r_2/m, nper = n_2*m, pmt = cf_2, fv = FV_2, when = \"begin\")\n",
    "PV_2"
   ]
  },
  {
   "cell_type": "markdown",
   "metadata": {},
   "source": [
    "__Step 2: Funding Phase__"
   ]
  },
  {
   "cell_type": "code",
   "execution_count": 54,
   "metadata": {},
   "outputs": [],
   "source": [
    "m = 12\n",
    "n_1 = 35\n",
    "FV_1 = -PV_2\n",
    "r_1 = 0.04\n",
    "PV_1 = 0"
   ]
  },
  {
   "cell_type": "code",
   "execution_count": 55,
   "metadata": {},
   "outputs": [
    {
     "data": {
      "text/plain": [
       "-630.1526790408823"
      ]
     },
     "execution_count": 55,
     "metadata": {},
     "output_type": "execute_result"
    }
   ],
   "source": [
    "cf_1 = npf.pmt(rate = r_1/m, nper = n_1*m, pv = PV_1, fv = FV_1)\n",
    "cf_1"
   ]
  },
  {
   "cell_type": "markdown",
   "metadata": {},
   "source": [
    "__Writing a Function__"
   ]
  },
  {
   "cell_type": "code",
   "execution_count": 56,
   "metadata": {},
   "outputs": [],
   "source": [
    "def retirement(ret_income, ret_years, end_value, initial_funds,\n",
    "               funding_years, rate_funding, rate_payout = None, m = 12, \n",
    "               payout_when = \"begin\", funding_when = \"end\"):\n",
    "    \n",
    "    if not rate_payout:\n",
    "        rate_payout = rate_funding   \n",
    "\n",
    "    PV_2 = npf.pv(rate = rate_payout/m, nper = ret_years * m, \n",
    "                 pmt = ret_income, fv = end_value, when = payout_when)\n",
    "    \n",
    "        \n",
    "    cf_1 = npf.pmt(rate = rate_funding/m, nper = funding_years * m,\n",
    "                  pv = -initial_funds, fv = -PV_2, when = funding_when)\n",
    "    \n",
    "    return cf_1"
   ]
  },
  {
   "cell_type": "code",
   "execution_count": 57,
   "metadata": {},
   "outputs": [
    {
     "data": {
      "text/plain": [
       "-630.1526790408823"
      ]
     },
     "execution_count": 57,
     "metadata": {},
     "output_type": "execute_result"
    }
   ],
   "source": [
    "retirement(ret_income= 2500, ret_years= 25, end_value= 100000, \n",
    "           initial_funds= 0, funding_years= 35, rate_funding = 0.04, \n",
    "           rate_payout = 0.03)"
   ]
  },
  {
   "cell_type": "code",
   "execution_count": 58,
   "metadata": {},
   "outputs": [
    {
     "data": {
      "text/plain": [
       "-504.89878895963534"
      ]
     },
     "execution_count": 58,
     "metadata": {},
     "output_type": "execute_result"
    }
   ],
   "source": [
    "retirement(ret_income= 2400, ret_years= 24, end_value= 50000, \n",
    "           initial_funds= 7500, funding_years= 36, rate_funding = 0.04, \n",
    "           rate_payout = 0.03)"
   ]
  },
  {
   "cell_type": "code",
   "execution_count": 59,
   "metadata": {},
   "outputs": [],
   "source": [
    "def retirement2(funding_amount, funding_years, initial_funds, \n",
    "                ret_years, end_value, rate_funding, rate_payout, \n",
    "                m = 12, payout_when = \"begin\", funding_when = \"end\"):\n",
    "      \n",
    "    FV_1 = npf.fv(rate = rate_funding/m, nper = funding_years * m, \n",
    "                 pmt = -funding_amount, pv = -initial_funds, when = funding_when)\n",
    "    \n",
    "        \n",
    "    cf_2 = npf.pmt(rate = rate_payout/m, nper = ret_years * m, \n",
    "                  pv = -FV_1, fv = end_value, when = payout_when)\n",
    "    \n",
    "    return cf_2"
   ]
  },
  {
   "cell_type": "code",
   "execution_count": 60,
   "metadata": {},
   "outputs": [
    {
     "data": {
      "text/plain": [
       "2400.0000000000005"
      ]
     },
     "execution_count": 60,
     "metadata": {},
     "output_type": "execute_result"
    }
   ],
   "source": [
    "retirement2(funding_amount = 504.89878895963534, funding_years = 36, initial_funds = 7500,\n",
    "            ret_years = 24, end_value = 50000, rate_funding = 0.04, \n",
    "            rate_payout = 0.03)"
   ]
  },
  {
   "cell_type": "code",
   "execution_count": 61,
   "metadata": {},
   "outputs": [
    {
     "data": {
      "text/plain": [
       "array([1624.6152508 , 1868.14322971, 2126.71301059, 2400.00567238,\n",
       "       2687.54175667, 2988.69936767])"
      ]
     },
     "execution_count": 61,
     "metadata": {},
     "output_type": "execute_result"
    }
   ],
   "source": [
    "retirement2(funding_amount = 504.90, funding_years = 36, initial_funds = 7500,\n",
    "            ret_years = 24, end_value = 50000, rate_funding = 0.04, \n",
    "            rate_payout = np.arange(0, 0.06, 0.01))"
   ]
  },
  {
   "cell_type": "code",
   "execution_count": 62,
   "metadata": {},
   "outputs": [
    {
     "data": {
      "text/plain": [
       "array([1884.63738583, 2129.5119252 , 2390.44512518, 2667.11947945,\n",
       "       2959.05925093, 3265.64700202])"
      ]
     },
     "execution_count": 62,
     "metadata": {},
     "output_type": "execute_result"
    }
   ],
   "source": [
    "retirement2(funding_amount = 504.90, funding_years = 37, initial_funds = 7500,\n",
    "            ret_years = 23, end_value = 25000, rate_funding = 0.04, \n",
    "            rate_payout = np.arange(0, 0.06, 0.01))"
   ]
  },
  {
   "cell_type": "code",
   "execution_count": null,
   "metadata": {},
   "outputs": [],
   "source": []
  }
 ],
 "metadata": {
  "kernelspec": {
   "display_name": "Python 3",
   "language": "python",
   "name": "python3"
  },
  "language_info": {
   "codemirror_mode": {
    "name": "ipython",
    "version": 3
   },
   "file_extension": ".py",
   "mimetype": "text/x-python",
   "name": "python",
   "nbconvert_exporter": "python",
   "pygments_lexer": "ipython3",
   "version": "3.8.8"
  }
 },
 "nbformat": 4,
 "nbformat_minor": 2
}
