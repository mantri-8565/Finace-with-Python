{
 "cells": [
  {
   "cell_type": "markdown",
   "id": "bcaae837",
   "metadata": {},
   "source": [
    "The XYZ Company evaluates to buy an additional machine that will increase profits/cashflows by\n",
    "- 20 USD in t1,\n",
    "- 50 USD in t2,\n",
    "- 70 USD in t3, \n",
    "- 100 USD in t4,\n",
    "- 50 USD in t5. (each cf at period´s end)\n",
    "\n",
    "The machine costs 200 USD (Investment in to). \n",
    "\n",
    "- Calculate the __Project´s IRR__ and evaluate whether XYZ should pursue the project. XYZs required rate of return is 6% p.a. "
   ]
  },
  {
   "cell_type": "code",
   "execution_count": 1,
   "id": "72aec918",
   "metadata": {},
   "outputs": [],
   "source": [
    "cf = [-200, 20, 50, 70, 100, 50] "
   ]
  },
  {
   "cell_type": "code",
   "execution_count": 2,
   "id": "d9ac7c90",
   "metadata": {},
   "outputs": [
    {
     "name": "stdout",
     "output_type": "stream",
     "text": [
      "0.11906800000005907 0.0008063408465055488\n"
     ]
    }
   ],
   "source": [
    "r=0.06\n",
    "step=0.000001\n",
    "tolerance=0.001\n",
    "npv=9999\n",
    "while abs(npv)>tolerance:\n",
    "    if npv>tolerance:\n",
    "        r+=step\n",
    "    else:\n",
    "        r-=step\n",
    "    npv=sum([cf[i]/(1+r)**i for i in range(len(cf))])\n",
    "print(r,npv)"
   ]
  },
  {
   "cell_type": "markdown",
   "id": "f7e856a7",
   "metadata": {},
   "source": [
    "### Solving for a Bond´s Yield to Maturity (YTM) "
   ]
  },
  {
   "cell_type": "markdown",
   "id": "4f249691",
   "metadata": {},
   "source": [
    "The XYZ Company issued a 10Y Senior Unsecured Bond one year ago with a Coupon Rate of 5.0% (annual payments in arrears). Today´s Bond Price is 107.5 (per 100 par Value). Calculate the Bond´s __current YTM__."
   ]
  },
  {
   "cell_type": "code",
   "execution_count": 3,
   "id": "2975a60f",
   "metadata": {},
   "outputs": [
    {
     "data": {
      "text/plain": [
       "[-107.5, 5, 5, 5, 5, 5, 5, 5, 5, 105]"
      ]
     },
     "execution_count": 3,
     "metadata": {},
     "output_type": "execute_result"
    }
   ],
   "source": [
    "cf = [5] * 9\n",
    "cf[-1] = cf[-1] + 100\n",
    "cf.insert(0, -107.5)\n",
    "cf"
   ]
  },
  {
   "cell_type": "code",
   "execution_count": 4,
   "id": "974372ed",
   "metadata": {},
   "outputs": [
    {
     "name": "stdout",
     "output_type": "stream",
     "text": [
      "0.03991809999942253 -0.0009746277258670943\n"
     ]
    }
   ],
   "source": [
    "r=0.06\n",
    "step=0.0000001\n",
    "tolerance=0.001\n",
    "npv=9999\n",
    "while abs(npv)>tolerance:\n",
    "    if npv>tolerance:\n",
    "        r+=step\n",
    "    else:\n",
    "        r-=step\n",
    "    npv=sum([cf[i]/(1+r)**i for i in range(len(cf))])\n",
    "print(r,npv)"
   ]
  },
  {
   "cell_type": "code",
   "execution_count": 6,
   "id": "71b77359",
   "metadata": {},
   "outputs": [
    {
     "name": "stdout",
     "output_type": "stream",
     "text": [
      "The current YTM for XYZ´s Corporate Bond is 4.0%!\n"
     ]
    }
   ],
   "source": [
    "print(\"The current YTM for XYZ´s Corporate Bond is {}%!\".format(round(r, 3) * 100))"
   ]
  },
  {
   "cell_type": "markdown",
   "id": "05ed2fd7",
   "metadata": {},
   "source": [
    "### Plotting NPV & IRR"
   ]
  },
  {
   "cell_type": "code",
   "execution_count": 7,
   "id": "dc17f21a",
   "metadata": {},
   "outputs": [],
   "source": [
    "import matplotlib.pyplot as plt"
   ]
  },
  {
   "cell_type": "code",
   "execution_count": 10,
   "id": "f6e7be10",
   "metadata": {},
   "outputs": [],
   "source": [
    "cf = [-200, 20, 50, 70, 100, 50] \n",
    "r = 0.06\n",
    "f = 1 + r"
   ]
  },
  {
   "cell_type": "code",
   "execution_count": 11,
   "id": "8ddfe22d",
   "metadata": {},
   "outputs": [
    {
     "name": "stdout",
     "output_type": "stream",
     "text": [
      "38.71337130837991\n"
     ]
    }
   ],
   "source": [
    "NPV = 0\n",
    "for i in range(len(cf)):\n",
    "    NPV += cf[i] / f**(i)\n",
    "print(NPV)"
   ]
  },
  {
   "cell_type": "code",
   "execution_count": 12,
   "id": "0fff40a4",
   "metadata": {},
   "outputs": [
    {
     "data": {
      "text/plain": [
       "[0,\n",
       " 1,\n",
       " 2,\n",
       " 3,\n",
       " 4,\n",
       " 5,\n",
       " 6,\n",
       " 7,\n",
       " 8,\n",
       " 9,\n",
       " 10,\n",
       " 11,\n",
       " 12,\n",
       " 13,\n",
       " 14,\n",
       " 15,\n",
       " 16,\n",
       " 17,\n",
       " 18,\n",
       " 19,\n",
       " 20,\n",
       " 21,\n",
       " 22,\n",
       " 23,\n",
       " 24,\n",
       " 25,\n",
       " 26,\n",
       " 27,\n",
       " 28,\n",
       " 29,\n",
       " 30,\n",
       " 31,\n",
       " 32,\n",
       " 33,\n",
       " 34,\n",
       " 35,\n",
       " 36,\n",
       " 37,\n",
       " 38,\n",
       " 39,\n",
       " 40,\n",
       " 41,\n",
       " 42,\n",
       " 43,\n",
       " 44,\n",
       " 45,\n",
       " 46,\n",
       " 47,\n",
       " 48,\n",
       " 49,\n",
       " 50,\n",
       " 51,\n",
       " 52,\n",
       " 53,\n",
       " 54,\n",
       " 55,\n",
       " 56,\n",
       " 57,\n",
       " 58,\n",
       " 59,\n",
       " 60,\n",
       " 61,\n",
       " 62,\n",
       " 63,\n",
       " 64,\n",
       " 65,\n",
       " 66,\n",
       " 67,\n",
       " 68,\n",
       " 69,\n",
       " 70,\n",
       " 71,\n",
       " 72,\n",
       " 73,\n",
       " 74,\n",
       " 75,\n",
       " 76,\n",
       " 77,\n",
       " 78,\n",
       " 79,\n",
       " 80,\n",
       " 81,\n",
       " 82,\n",
       " 83,\n",
       " 84,\n",
       " 85,\n",
       " 86,\n",
       " 87,\n",
       " 88,\n",
       " 89,\n",
       " 90,\n",
       " 91,\n",
       " 92,\n",
       " 93,\n",
       " 94,\n",
       " 95,\n",
       " 96,\n",
       " 97,\n",
       " 98,\n",
       " 99,\n",
       " 100,\n",
       " 101,\n",
       " 102,\n",
       " 103,\n",
       " 104,\n",
       " 105,\n",
       " 106,\n",
       " 107,\n",
       " 108,\n",
       " 109,\n",
       " 110,\n",
       " 111,\n",
       " 112,\n",
       " 113,\n",
       " 114,\n",
       " 115,\n",
       " 116,\n",
       " 117,\n",
       " 118,\n",
       " 119,\n",
       " 120,\n",
       " 121,\n",
       " 122,\n",
       " 123,\n",
       " 124,\n",
       " 125,\n",
       " 126,\n",
       " 127,\n",
       " 128,\n",
       " 129,\n",
       " 130,\n",
       " 131,\n",
       " 132,\n",
       " 133,\n",
       " 134,\n",
       " 135,\n",
       " 136,\n",
       " 137,\n",
       " 138,\n",
       " 139,\n",
       " 140,\n",
       " 141,\n",
       " 142,\n",
       " 143,\n",
       " 144,\n",
       " 145,\n",
       " 146,\n",
       " 147,\n",
       " 148,\n",
       " 149,\n",
       " 150]"
      ]
     },
     "execution_count": 12,
     "metadata": {},
     "output_type": "execute_result"
    }
   ],
   "source": [
    "l = list(range(0, 151))\n",
    "l"
   ]
  },
  {
   "cell_type": "code",
   "execution_count": 13,
   "id": "3bf6317d",
   "metadata": {},
   "outputs": [],
   "source": [
    "rs = []\n",
    "for i in l:\n",
    "    rs.append(i/1000)"
   ]
  },
  {
   "cell_type": "code",
   "execution_count": 14,
   "id": "51c33d16",
   "metadata": {},
   "outputs": [
    {
     "data": {
      "text/plain": [
       "[90.0,\n",
       " 89.02233533830645,\n",
       " 88.04932277268327,\n",
       " 87.08093458060883,\n",
       " 86.1171432359879,\n",
       " 85.15792140754817,\n",
       " 84.20324195724834,\n",
       " 83.25307793870432,\n",
       " 82.30740259562623,\n",
       " 81.3661893602733,\n",
       " 80.42941185192001,\n",
       " 79.49704387533896,\n",
       " 78.5690594192948,\n",
       " 77.64543265505522,\n",
       " 76.72613793491223,\n",
       " 75.81114979072012,\n",
       " 74.90044293244378,\n",
       " 73.99399224672311,\n",
       " 73.09177279544778,\n",
       " 72.19375981434803,\n",
       " 71.2999287115945,\n",
       " 70.41025506641506,\n",
       " 69.52471462772012,\n",
       " 68.64328331274393,\n",
       " 67.76593720569507,\n",
       " 66.89265255642215,\n",
       " 66.02340577908858,\n",
       " 65.15817345086228,\n",
       " 64.29693231061431,\n",
       " 63.43965925763209,\n",
       " 62.5863313503413,\n",
       " 61.736925805042254,\n",
       " 60.89141999465465,\n",
       " 60.04979144747654,\n",
       " 59.21201784595149,\n",
       " 58.378077025449706,\n",
       " 57.54794697305712,\n",
       " 56.72160582637826,\n",
       " 55.899031872346974,\n",
       " 55.08020354605044,\n",
       " 54.26509942956098,\n",
       " 53.45369825078115,\n",
       " 52.64597888229602,\n",
       " 51.84192034023874,\n",
       " 51.04150178316316,\n",
       " 50.24470251092959,\n",
       " 49.451501963597046,\n",
       " 48.66187972032871,\n",
       " 47.875815498303844,\n",
       " 47.09328915164238,\n",
       " 46.31428067033599,\n",
       " 45.53877017919148,\n",
       " 44.76673793678077,\n",
       " 43.998164334402624,\n",
       " 43.23302989505121,\n",
       " 42.47131527239585,\n",
       " 41.713001249767416,\n",
       " 40.95806873915633,\n",
       " 40.20649878021636,\n",
       " 39.45827253928004,\n",
       " 38.71337130837991,\n",
       " 37.9717765042809,\n",
       " 37.233469667518825,\n",
       " 36.498432461449354,\n",
       " 35.7666466713031,\n",
       " 35.0380942032514,\n",
       " 34.31275708347732,\n",
       " 33.59061745725777,\n",
       " 32.87165758805079,\n",
       " 32.155859856592954,\n",
       " 31.44320676000285,\n",
       " 30.733680910893888,\n",
       " 30.027265036492985,\n",
       " 29.323941977768953,\n",
       " 28.62369468856604,\n",
       " 27.926506234747364,\n",
       " 27.23235979334339,\n",
       " 26.54123865170982,\n",
       " 25.853126206690668,\n",
       " 25.168005963790655,\n",
       " 24.48586153635255,\n",
       " 23.806676644743447,\n",
       " 23.130435115546376,\n",
       " 22.457120880760456,\n",
       " 21.786717977005722,\n",
       " 21.119210544737555,\n",
       " 20.454582827464648,\n",
       " 19.79281917097652,\n",
       " 19.133904022575265,\n",
       " 18.47782193031577,\n",
       " 17.82455754225039,\n",
       " 17.17409560568217,\n",
       " 16.526420966422137,\n",
       " 15.881518568055284,\n",
       " 15.239373451210156,\n",
       " 14.599970752837127,\n",
       " 13.96329570549057,\n",
       " 13.32933363661899,\n",
       " 12.698069967859123,\n",
       " 12.069490214338312,\n",
       " 11.443579983980186,\n",
       " 10.820324976818593,\n",
       " 10.199710984315146,\n",
       " 9.581723888684511,\n",
       " 8.966349662223049,\n",
       " 8.35357436664573,\n",
       " 7.743384152425826,\n",
       " 7.135765258142715,\n",
       " 6.53070400983264,\n",
       " 5.928186820347197,\n",
       " 5.328200188715215,\n",
       " 4.730730699511405,\n",
       " 4.135765022228988,\n",
       " 3.5432899106590305,\n",
       " 2.9532922022729267,\n",
       " 2.3657588176123134,\n",
       " 1.7806767596817217,\n",
       " 1.1980331133482949,\n",
       " 0.6178150447448978,\n",
       " 0.040009800678774354,\n",
       " -0.5353952919542841,\n",
       " -1.1084128267522573,\n",
       " -1.679055318383643,\n",
       " -2.247335203159526,\n",
       " -2.8132648396007767,\n",
       " -3.376856509000998,\n",
       " -3.938122415985056,\n",
       " -4.497074689062366,\n",
       " -5.0537253811756955,\n",
       " -5.608086470246221,\n",
       " -6.160169859713626,\n",
       " -6.709987379071766,\n",
       " -7.257550784399886,\n",
       " -7.802871758889953,\n",
       " -8.345961913369337,\n",
       " -8.886832786819543,\n",
       " -9.425495846890044,\n",
       " -9.961962490408851,\n",
       " -10.49624404388862,\n",
       " -11.028351764028415,\n",
       " -11.55829683821144,\n",
       " -12.086090384998975,\n",
       " -12.611743454620594,\n",
       " -13.135267029459843,\n",
       " -13.656672024535947,\n",
       " -14.17596928798266,\n",
       " -14.693169601521706,\n",
       " -15.208283680934088,\n",
       " -15.721322176526172,\n",
       " -16.232295673593065,\n",
       " -16.741214692877584]"
      ]
     },
     "execution_count": 14,
     "metadata": {},
     "output_type": "execute_result"
    }
   ],
   "source": [
    "npvs = []\n",
    "for i in rs:\n",
    "    npv = 0\n",
    "    for j in range(len(cf)):\n",
    "        npv += cf[j] / (1 + i)**(j)\n",
    "    npvs.append(npv)\n",
    "npvs"
   ]
  },
  {
   "cell_type": "code",
   "execution_count": 15,
   "id": "5d24937c",
   "metadata": {},
   "outputs": [
    {
     "data": {
      "image/png": "[encoded data removed]",
      "text/plain": [
       "<Figure size 864x576 with 1 Axes>"
      ]
     },
     "metadata": {
      "needs_background": "light"
     },
     "output_type": "display_data"
    }
   ],
   "source": [
    "plt.figure(figsize = (12, 8))\n",
    "plt.scatter(x = r, y = NPV, s = 100, c = \"blue\", marker = \"o\", label = \"NPV @ r\")\n",
    "plt.plot(rs, npvs, color = \"red\", linewidth = 2, linestyle = \"-\", label = \"NPV(r)\")\n",
    "plt.grid()\n",
    "plt.hlines(y = 0, xmin = rs[0], xmax = rs[-1], linestyles= \"dashed\", color = \"blue\", label = \"NPV = 0\")\n",
    "plt.title(\"NPV & IRR\", fontsize = 15)\n",
    "plt.xlabel(\"r\", fontsize = 12)\n",
    "plt.ylabel(\"NPV\", fontsize = 12)\n",
    "plt.annotate(\"IRR\", xy = (0.119, 0), xytext = (0.135, 20), arrowprops={'color':'black'}, fontsize = 15)\n",
    "plt.legend(loc = \"best\", fontsize = 15)\n",
    "plt.show()"
   ]
  }
 ],
 "metadata": {
  "kernelspec": {
   "display_name": "Python 3",
   "language": "python",
   "name": "python3"
  },
  "language_info": {
   "codemirror_mode": {
    "name": "ipython",
    "version": 3
   },
   "file_extension": ".py",
   "mimetype": "text/x-python",
   "name": "python",
   "nbconvert_exporter": "python",
   "pygments_lexer": "ipython3",
   "version": "3.8.8"
  }
 },
 "nbformat": 4,
 "nbformat_minor": 5
}
